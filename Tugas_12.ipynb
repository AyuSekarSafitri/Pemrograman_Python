{
  "nbformat": 4,
  "nbformat_minor": 0,
  "metadata": {
    "colab": {
      "name": "Tugas 12.ipynb",
      "provenance": [],
      "collapsed_sections": [],
      "authorship_tag": "ABX9TyOYzRGB1D/Xmn+AUPrdqNXh",
      "include_colab_link": true
    },
    "kernelspec": {
      "name": "python3",
      "display_name": "Python 3"
    }
  },
  "cells": [
    {
      "cell_type": "markdown",
      "metadata": {
        "id": "view-in-github",
        "colab_type": "text"
      },
      "source": [
        "<a href=\"https://colab.research.google.com/github/AyuSekarSafitri/Pemrograman_Python/blob/main/Tugas_12.ipynb\" target=\"_parent\"><img src=\"https://colab.research.google.com/assets/colab-badge.svg\" alt=\"Open In Colab\"/></a>"
      ]
    },
    {
      "cell_type": "code",
      "metadata": {
        "id": "PlOTTYUCUws-"
      },
      "source": [
        "import numpy as np"
      ],
      "execution_count": 1,
      "outputs": []
    },
    {
      "cell_type": "code",
      "metadata": {
        "colab": {
          "base_uri": "https://localhost:8080/"
        },
        "id": "1Pg-B3QDXg0i",
        "outputId": "250f40ef-e904-46a1-9215-9b7826b7e99c"
      },
      "source": [
        "# INPUT DATA\r\n",
        "fc = int(input(\"Frekuensi dalam MHz (range antara 150 MHz s.d 2000 Mhz) : \"))\r\n",
        "ht = int(input(\"Tinggi antenna pengirim dalam meter (range 30 s.d 200 meter : \"))\r\n",
        "hr = int(input(\"Tinggi antenna penerima dalam meter (range 1 s.d 30 meter : \"))\r\n",
        "d = int(input(\"Jarak antara pengirim dan penerima (dalam Kilometer) : \"))\r\n",
        "TA = input(\"Tipe Area : \")"
      ],
      "execution_count": 2,
      "outputs": [
        {
          "output_type": "stream",
          "text": [
            "Frekuensi dalam MHz (range antara 150 MHz s.d 2000 Mhz) : 1000\n",
            "Tinggi antenna pengirim dalam meter (range 30 s.d 200 meter : 50\n",
            "Tinggi antenna penerima dalam meter (range 1 s.d 30 meter : 25\n",
            "Jarak antara pengirim dan penerima (dalam Kilometer) : 1000\n",
            "Tipe Area : urban\n"
          ],
          "name": "stdout"
        }
      ]
    },
    {
      "cell_type": "code",
      "metadata": {
        "id": "9kpp3z5xXxZB"
      },
      "source": [
        "#PERMISALAN FREKUENSI\r\n",
        "if fc < 150 or fc > 2000:\r\n",
        "  print(\"Frekuensi tidak berada di dalam jangkauan\")\r\n",
        "  fc = 0"
      ],
      "execution_count": 3,
      "outputs": []
    },
    {
      "cell_type": "code",
      "metadata": {
        "id": "UbNwqozNX0bN"
      },
      "source": [
        "# Cm Nilai Sesuai Tipe Area\r\n",
        "if TA == \"urban\":\r\n",
        "  cm = 0\r\n",
        "elif TA == \"suburban\":\r\n",
        "  cm = -2*(np.log(fc/28)**2)-5.4\r\n",
        "elif TA  == \"open\":\r\n",
        "  cm = -4.78*(np.log(fc))**2+18.33*np.log(fc)-40.94\r\n",
        "else:\r\n",
        "  printf(\"Tipe area salah\")\r\n",
        "  cm = -9999999"
      ],
      "execution_count": 4,
      "outputs": []
    },
    {
      "cell_type": "code",
      "metadata": {
        "id": "9L0bgZxgX3wa"
      },
      "source": [
        "#KONDISI TINGGI ANTENA PEMANCAR\r\n",
        "if ht < 30 or ht > 200:\r\n",
        "  print(\"Tinggi yang anda masukan tidak berada di dalam jangkauan\")\r\n",
        "  ht = 0\r\n",
        "\r\n",
        "elif hr < 1 or hr > 30:\r\n",
        "  print(\"Tinggi yang anda masukan tidak berada di dalam jangkauan\")\r\n",
        "  ht = 0"
      ],
      "execution_count": 5,
      "outputs": []
    },
    {
      "cell_type": "code",
      "metadata": {
        "id": "e99RKI0GX6Mz"
      },
      "source": [
        "# Menentukan nilai C1 dan C2\r\n",
        "if fc >= 400 or fc <= 1500:\r\n",
        "  C1 = 69.55\r\n",
        "  C2 = 26.16\r\n",
        "elif fc > 1500 or fc <= 2000:\r\n",
        "  C1 = 46.3\r\n",
        "  C2 = 33.9\r\n",
        "else:\r\n",
        "  C1 = 0\r\n",
        "  C2 = 0"
      ],
      "execution_count": 6,
      "outputs": []
    },
    {
      "cell_type": "code",
      "metadata": {
        "id": "Aw5bRRRZX88a"
      },
      "source": [
        "# Menentukan Nilai a(hr)\r\n",
        "ahr = (1.1*np.log10(fc)-0.7)*hr - (1.56*np.log10(fc) - 0.8)"
      ],
      "execution_count": 7,
      "outputs": []
    },
    {
      "cell_type": "code",
      "metadata": {
        "id": "9396KOcvX_Dw"
      },
      "source": [
        "# COST 231 PATHLOSS MODEL\r\n",
        "def pathloss():\r\n",
        "  lp = C1 + C2*np.log10(fc) - 13.83*np.log10(ht) - ahr + (44.9 - 6.55*np.log10(ht))*np.log10(d) + cm\r\n",
        "  print(\"Pathloss: \",lp,\" dB\")"
      ],
      "execution_count": 8,
      "outputs": []
    },
    {
      "cell_type": "code",
      "metadata": {
        "colab": {
          "base_uri": "https://localhost:8080/"
        },
        "id": "CeIqPsItYBbe",
        "outputId": "9695fddf-de7d-4b3a-e94d-8853d3b16da8"
      },
      "source": [
        "# PATHLOSS\r\n",
        "pathloss()"
      ],
      "execution_count": 9,
      "outputs": [
        {
          "output_type": "stream",
          "text": [
            "Pathloss:  164.72848425483008  dB\n"
          ],
          "name": "stdout"
        }
      ]
    }
  ]
}